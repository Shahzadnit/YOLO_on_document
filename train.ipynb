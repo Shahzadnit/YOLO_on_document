{
 "cells": [
  {
   "cell_type": "code",
   "execution_count": 1,
   "metadata": {
    "colab": {},
    "colab_type": "code",
    "id": "GlUuRkP0rq_l",
    "scrolled": true
   },
   "outputs": [],
   "source": [
    "import os\n",
    "import random\n",
    "\n",
    "import cv2\n",
    "import numpy as np\n",
    "\n",
    "import torch\n",
    "from torch.utils.data import DataLoader\n",
    "from torchvision import models\n",
    "\n",
    "from resnet_yolo import resnet50\n",
    "from yolo_loss import YoloLoss\n",
    "from dataset import VocDetectorDataset\n",
    "from eval_voc import evaluate\n",
    "from predict import predict_image\n",
    "from predict import predict_video\n",
    "from config import VOC_CLASSES, COLORS\n",
    "import time\n",
    "# from kaggle_submission import output_submission_csv\n",
    "import matplotlib.pyplot as plt\n",
    "\n",
    "%matplotlib inline\n",
    "%load_ext autoreload\n",
    "%autoreload 2"
   ]
  },
  {
   "cell_type": "markdown",
   "metadata": {
    "colab_type": "text",
    "id": "VaLb-PGFrq_q"
   },
   "source": [
    "## Initialization"
   ]
  },
  {
   "cell_type": "code",
   "execution_count": 2,
   "metadata": {
    "colab": {},
    "colab_type": "code",
    "id": "Q67dLEFprq_r"
   },
   "outputs": [],
   "source": [
    "device = torch.device(\"cuda:0\" if torch.cuda.is_available() else \"cpu\")"
   ]
  },
  {
   "cell_type": "code",
   "execution_count": 3,
   "metadata": {
    "colab": {},
    "colab_type": "code",
    "id": "euMkFVmvrq_s"
   },
   "outputs": [],
   "source": [
    "# YOLO network hyperparameters\n",
    "B = 2  # number of bounding box predictions per cell\n",
    "S = 14  # width/height of network output grid (larger than 7x7 from paper since we use a different network)"
   ]
  },
  {
   "cell_type": "markdown",
   "metadata": {
    "colab_type": "text",
    "id": "7LdYYY9Jrq_v"
   },
   "source": [
    "To implement Yolo we will rely on a pretrained classifier as the backbone for our detection network. PyTorch offers a variety of models which are pretrained on ImageNet in the [`torchvision.models`](https://pytorch.org/docs/stable/torchvision/models.html) package. In particular, we will use the ResNet50 architecture as a base for our detector. This is different from the base architecture in the Yolo paper and also results in a different output grid size (14x14 instead of 7x7).\n",
    "\n",
    "Models are typically pretrained on ImageNet since the dataset is very large (> 1million images) and widely used. The pretrained model provides a very useful weight initialization for our detector, so that the network is able to learn quickly and effictively."
   ]
  },
  {
   "cell_type": "code",
   "execution_count": 4,
   "metadata": {
    "colab": {
     "base_uri": "https://localhost:8080/",
     "height": 34
    },
    "colab_type": "code",
    "id": "TqhLsHNXrq_w",
    "outputId": "b34b5605-25ba-4416-854e-feb0a9b8244f"
   },
   "outputs": [
    {
     "name": "stdout",
     "output_type": "stream",
     "text": [
      "Load pre-trained model\n"
     ]
    }
   ],
   "source": [
    "load_network_path = None\n",
    "pretrained = True\n",
    "\n",
    "# use to load a previously trained network\n",
    "if load_network_path is not None:\n",
    "    print('Loading saved network from {}'.format(load_network_path))\n",
    "    net = resnet50().to(device)\n",
    "    net.load_state_dict(torch.load(load_network_path))\n",
    "else:\n",
    "    print('Load pre-trained model')\n",
    "    net = resnet50(pretrained=pretrained).to(device)"
   ]
  },
  {
   "cell_type": "code",
   "execution_count": 5,
   "metadata": {
    "colab": {},
    "colab_type": "code",
    "id": "i_0TOjeArq_z"
   },
   "outputs": [],
   "source": [
    "learning_rate = 0.001\n",
    "num_epochs = 50\n",
    "batch_size = 20\n",
    "\n",
    "# Yolo loss component coefficients (as given in Yolo v1 paper)\n",
    "lambda_coord = 5\n",
    "lambda_noobj = 0.5"
   ]
  },
  {
   "cell_type": "code",
   "execution_count": 6,
   "metadata": {
    "colab": {},
    "colab_type": "code",
    "id": "e1hNSQzorq_2"
   },
   "outputs": [],
   "source": [
    "criterion = YoloLoss(S, B, lambda_coord, lambda_noobj)\n",
    "optimizer = torch.optim.SGD(net.parameters(), lr=learning_rate, momentum=0.9, weight_decay=5e-4)"
   ]
  },
  {
   "cell_type": "markdown",
   "metadata": {
    "colab_type": "text",
    "id": "0er_4iL0rq_5"
   },
   "source": [
    "## Reading Pascal Data"
   ]
  },
  {
   "cell_type": "markdown",
   "metadata": {
    "colab_type": "text",
    "id": "g7v1-Nl-rq_5"
   },
   "source": [
    "Since Pascal is a small dataset (5000 in train+val) we have combined the train and val splits to train our detector. This is not typically a good practice, but we will make an exception in this case to be able to get reasonable detection results with a comparatively small object detection dataset.\n",
    "\n",
    "The train dataset loader also using a variety of data augmentation techniques including random shift, scaling, crop, and flips. Data augmentation is slightly more complicated for detection dataset since the bounding box annotations must be kept consistent through the transformations.\n",
    "\n",
    "Since the output of the dector network we train is an SxSx(B*5+C), we use an encoder to convert the original bounding box coordinates into relative grid bounding box coordinates corresponding to the the expected output. We also use a decoder which allows us to convert the opposite direction into image coordinate bounding boxes."
   ]
  },
  {
   "cell_type": "code",
   "execution_count": 7,
   "metadata": {
    "colab": {
     "base_uri": "https://localhost:8080/",
     "height": 51
    },
    "colab_type": "code",
    "id": "hEVhoztQrq_6",
    "outputId": "7ef3e135-2d35-4afb-c3ab-5718bcb13b5e"
   },
   "outputs": [
    {
     "name": "stdout",
     "output_type": "stream",
     "text": [
      "Initializing dataset\n",
      "Loaded 374 train images\n"
     ]
    }
   ],
   "source": [
    "file_root_train = 'doc_data_train/img_new/'\n",
    "annotation_file_train = 'doc_data_train/anotation_new.txt'\n",
    "\n",
    "train_dataset = VocDetectorDataset(root_img_dir=file_root_train,dataset_file=annotation_file_train,train=True, S=S)\n",
    "train_loader = DataLoader(train_dataset,batch_size=batch_size,shuffle=True,num_workers=4)\n",
    "print('Loaded %d train images' % len(train_dataset))"
   ]
  },
  {
   "cell_type": "code",
   "execution_count": 8,
   "metadata": {
    "colab": {
     "base_uri": "https://localhost:8080/",
     "height": 51
    },
    "colab_type": "code",
    "id": "FdIIB6qOrq_8",
    "outputId": "b93611bf-0535-4464-a38b-cfadb0b11c32"
   },
   "outputs": [
    {
     "name": "stdout",
     "output_type": "stream",
     "text": [
      "Initializing dataset\n",
      "Loaded 45 test images\n"
     ]
    }
   ],
   "source": [
    "file_root_test = 'doc_data_test1/img_new/'\n",
    "annotation_file_test = 'doc_data_test1/anotation_new.txt'\n",
    "\n",
    "test_dataset = VocDetectorDataset(root_img_dir=file_root_test,dataset_file=annotation_file_test,train=False, S=S)\n",
    "test_loader = DataLoader(test_dataset,batch_size=batch_size,shuffle=False,num_workers=4)\n",
    "print('Loaded %d test images' % len(test_dataset))"
   ]
  },
  {
   "cell_type": "markdown",
   "metadata": {
    "colab_type": "text",
    "id": "YLfho8IErq__"
   },
   "source": [
    "## Train detector"
   ]
  },
  {
   "cell_type": "code",
   "execution_count": 9,
   "metadata": {
    "colab": {
     "base_uri": "https://localhost:8080/",
     "height": 38780
    },
    "colab_type": "code",
    "id": "TTi46FxIrq__",
    "outputId": "b1c9ee53-7da2-4fea-f494-e43c5fbb0cf3"
   },
   "outputs": [],
   "source": [
    "# best_test_loss = np.inf\n",
    "\n",
    "# for epoch in range(num_epochs):\n",
    "#     net.train()\n",
    "    \n",
    "#     # Update learning rate late in training\n",
    "#     if epoch == 30 or epoch == 40:\n",
    "#         learning_rate /= 10.0\n",
    "\n",
    "#     for param_group in optimizer.param_groups:\n",
    "#         param_group['lr'] = learning_rate\n",
    "    \n",
    "#     print('\\n\\nStarting epoch %d / %d' % (epoch + 1, num_epochs))\n",
    "#     print('Learning Rate for this epoch: {}'.format(learning_rate))\n",
    "    \n",
    "#     total_loss = 0.\n",
    "    \n",
    "#     for i, (images, target) in enumerate(train_loader):\n",
    "#         images, target = images.to(device), target.to(device)\n",
    "        \n",
    "#         pred = net(images)\n",
    "#         loss = criterion(pred,target)\n",
    "#         total_loss += loss.item()\n",
    "        \n",
    "#         optimizer.zero_grad()\n",
    "#         loss.backward()\n",
    "#         optimizer.step()\n",
    "#         if (i+1) % 5 == 0:\n",
    "#             print('Epoch [%d/%d], Iter [%d/%d] Loss: %.4f, average_loss: %.4f'\n",
    "#                   % (epoch+1, num_epochs, i+1, len(train_loader), loss.item(), total_loss / (i+1)))\n",
    "    \n",
    "#     # evaluate the network on the test data\n",
    "#     with torch.no_grad():\n",
    "#         test_loss = 0.0\n",
    "#         net.eval()\n",
    "#         for i, (images, target) in enumerate(test_loader):\n",
    "#             images, target = images.to(device), target.to(device)\n",
    "\n",
    "#             pred = net(images)\n",
    "#             loss = criterion(pred,target)\n",
    "#             test_loss += loss.item()\n",
    "#         test_loss /= len(test_loader)\n",
    "    \n",
    "#     if best_test_loss > test_loss:\n",
    "#         best_test_loss = test_loss\n",
    "#         print('Updating best test loss: %.5f' % best_test_loss)\n",
    "#         torch.save(net.state_dict(),'best_detector.pth')\n",
    "\n",
    "#     torch.save(net.state_dict(),'detector.pth')\n",
    "    \n"
   ]
  },
  {
   "cell_type": "code",
   "execution_count": 10,
   "metadata": {},
   "outputs": [],
   "source": [
    "avg_train_loss=[]\n",
    "avg_test_loss=[]"
   ]
  },
  {
   "cell_type": "code",
   "execution_count": 11,
   "metadata": {
    "scrolled": true
   },
   "outputs": [
    {
     "name": "stdout",
     "output_type": "stream",
     "text": [
      "\n",
      "\n",
      "Starting epoch 1 / 50\n",
      "Learning Rate for this epoch: 0.001\n"
     ]
    },
    {
     "name": "stderr",
     "output_type": "stream",
     "text": [
      "/home/hulk-css/anaconda3/lib/python3.6/site-packages/torch/nn/_reduction.py:46: UserWarning: size_average and reduce args will be deprecated, please use reduction='sum' instead.\n",
      "  warnings.warn(warning.format(ret))\n"
     ]
    },
    {
     "name": "stdout",
     "output_type": "stream",
     "text": [
      "Epoch [1/50],Training_loss: 48.4535, Val_loss: 159.6710,time: 0 min 11 sec\n",
      "Updating best test loss: 159.67102\n",
      "\n",
      "\n",
      "Starting epoch 2 / 50\n",
      "Learning Rate for this epoch: 0.001\n",
      "Epoch [2/50],Training_loss: 10.8660, Val_loss: 7.3936,time: 0 min 11 sec\n",
      "Updating best test loss: 7.39363\n",
      "\n",
      "\n",
      "Starting epoch 3 / 50\n",
      "Learning Rate for this epoch: 0.001\n",
      "Epoch [3/50],Training_loss: 6.0850, Val_loss: 4.7431,time: 0 min 11 sec\n",
      "Updating best test loss: 4.74313\n",
      "\n",
      "\n",
      "Starting epoch 4 / 50\n",
      "Learning Rate for this epoch: 0.001\n",
      "Epoch [4/50],Training_loss: 4.6284, Val_loss: 3.4660,time: 0 min 11 sec\n",
      "Updating best test loss: 3.46596\n",
      "\n",
      "\n",
      "Starting epoch 5 / 50\n",
      "Learning Rate for this epoch: 0.001\n",
      "Epoch [5/50],Training_loss: 3.8412, Val_loss: 2.9571,time: 0 min 11 sec\n",
      "Updating best test loss: 2.95712\n",
      "\n",
      "\n",
      "Starting epoch 6 / 50\n",
      "Learning Rate for this epoch: 0.001\n",
      "Epoch [6/50],Training_loss: 3.4725, Val_loss: 2.5024,time: 0 min 11 sec\n",
      "Updating best test loss: 2.50245\n",
      "\n",
      "\n",
      "Starting epoch 7 / 50\n",
      "Learning Rate for this epoch: 0.001\n",
      "Epoch [7/50],Training_loss: 3.1409, Val_loss: 2.3649,time: 0 min 12 sec\n",
      "Updating best test loss: 2.36489\n",
      "\n",
      "\n",
      "Starting epoch 8 / 50\n",
      "Learning Rate for this epoch: 0.001\n",
      "Epoch [8/50],Training_loss: 3.0685, Val_loss: 2.4553,time: 0 min 11 sec\n",
      "\n",
      "\n",
      "Starting epoch 9 / 50\n",
      "Learning Rate for this epoch: 0.001\n",
      "Epoch [9/50],Training_loss: 2.7929, Val_loss: 2.5500,time: 0 min 11 sec\n",
      "\n",
      "\n",
      "Starting epoch 10 / 50\n",
      "Learning Rate for this epoch: 0.001\n",
      "Epoch [10/50],Training_loss: 2.5958, Val_loss: 2.0014,time: 0 min 11 sec\n",
      "Updating best test loss: 2.00135\n",
      "\n",
      "\n",
      "Starting epoch 11 / 50\n",
      "Learning Rate for this epoch: 0.001\n",
      "Epoch [11/50],Training_loss: 2.5377, Val_loss: 1.9305,time: 0 min 11 sec\n",
      "Updating best test loss: 1.93047\n",
      "\n",
      "\n",
      "Starting epoch 12 / 50\n",
      "Learning Rate for this epoch: 0.001\n",
      "Epoch [12/50],Training_loss: 2.3229, Val_loss: 1.9299,time: 0 min 11 sec\n",
      "Updating best test loss: 1.92989\n",
      "\n",
      "\n",
      "Starting epoch 13 / 50\n",
      "Learning Rate for this epoch: 0.001\n",
      "Epoch [13/50],Training_loss: 2.1949, Val_loss: 2.0773,time: 0 min 11 sec\n",
      "\n",
      "\n",
      "Starting epoch 14 / 50\n",
      "Learning Rate for this epoch: 0.001\n",
      "Epoch [14/50],Training_loss: 2.2569, Val_loss: 2.0563,time: 0 min 11 sec\n",
      "\n",
      "\n",
      "Starting epoch 15 / 50\n",
      "Learning Rate for this epoch: 0.001\n",
      "Epoch [15/50],Training_loss: 2.0791, Val_loss: 1.9131,time: 0 min 11 sec\n",
      "Updating best test loss: 1.91308\n",
      "\n",
      "\n",
      "Starting epoch 16 / 50\n",
      "Learning Rate for this epoch: 0.001\n",
      "Epoch [16/50],Training_loss: 2.0843, Val_loss: 1.8394,time: 0 min 11 sec\n",
      "Updating best test loss: 1.83942\n",
      "\n",
      "\n",
      "Starting epoch 17 / 50\n",
      "Learning Rate for this epoch: 0.001\n",
      "Epoch [17/50],Training_loss: 1.9680, Val_loss: 1.7816,time: 0 min 13 sec\n",
      "Updating best test loss: 1.78165\n",
      "\n",
      "\n",
      "Starting epoch 18 / 50\n",
      "Learning Rate for this epoch: 0.001\n",
      "Epoch [18/50],Training_loss: 2.0176, Val_loss: 1.9791,time: 0 min 11 sec\n",
      "\n",
      "\n",
      "Starting epoch 19 / 50\n",
      "Learning Rate for this epoch: 0.001\n",
      "Epoch [19/50],Training_loss: 2.0804, Val_loss: 1.8504,time: 0 min 11 sec\n",
      "\n",
      "\n",
      "Starting epoch 20 / 50\n",
      "Learning Rate for this epoch: 0.001\n",
      "Epoch [20/50],Training_loss: 1.8664, Val_loss: 1.7716,time: 0 min 11 sec\n",
      "Updating best test loss: 1.77161\n",
      "\n",
      "\n",
      "Starting epoch 21 / 50\n",
      "Learning Rate for this epoch: 0.001\n",
      "Epoch [21/50],Training_loss: 1.8701, Val_loss: 1.9206,time: 0 min 11 sec\n",
      "\n",
      "\n",
      "Starting epoch 22 / 50\n",
      "Learning Rate for this epoch: 0.001\n",
      "Epoch [22/50],Training_loss: 1.7975, Val_loss: 1.8490,time: 0 min 11 sec\n",
      "\n",
      "\n",
      "Starting epoch 23 / 50\n",
      "Learning Rate for this epoch: 0.001\n",
      "Epoch [23/50],Training_loss: 1.8179, Val_loss: 1.6586,time: 0 min 11 sec\n",
      "Updating best test loss: 1.65857\n",
      "\n",
      "\n",
      "Starting epoch 24 / 50\n",
      "Learning Rate for this epoch: 0.001\n",
      "Epoch [24/50],Training_loss: 1.7428, Val_loss: 1.8133,time: 0 min 11 sec\n",
      "\n",
      "\n",
      "Starting epoch 25 / 50\n",
      "Learning Rate for this epoch: 0.001\n",
      "Epoch [25/50],Training_loss: 1.8049, Val_loss: 1.9780,time: 0 min 11 sec\n",
      "\n",
      "\n",
      "Starting epoch 26 / 50\n",
      "Learning Rate for this epoch: 0.001\n",
      "Epoch [26/50],Training_loss: 1.7196, Val_loss: 1.7883,time: 0 min 11 sec\n",
      "\n",
      "\n",
      "Starting epoch 27 / 50\n",
      "Learning Rate for this epoch: 0.001\n",
      "Epoch [27/50],Training_loss: 1.8348, Val_loss: 2.0121,time: 0 min 11 sec\n",
      "\n",
      "\n",
      "Starting epoch 28 / 50\n",
      "Learning Rate for this epoch: 0.001\n",
      "Epoch [28/50],Training_loss: 1.7451, Val_loss: 1.8629,time: 0 min 11 sec\n",
      "\n",
      "\n",
      "Starting epoch 29 / 50\n",
      "Learning Rate for this epoch: 0.001\n",
      "Epoch [29/50],Training_loss: 1.7463, Val_loss: 1.9000,time: 0 min 11 sec\n",
      "\n",
      "\n",
      "Starting epoch 30 / 50\n",
      "Learning Rate for this epoch: 0.001\n",
      "Epoch [30/50],Training_loss: 1.6671, Val_loss: 1.7051,time: 0 min 11 sec\n",
      "\n",
      "\n",
      "Starting epoch 31 / 50\n",
      "Learning Rate for this epoch: 0.0001\n",
      "Epoch [31/50],Training_loss: 1.7844, Val_loss: 1.8570,time: 0 min 11 sec\n",
      "\n",
      "\n",
      "Starting epoch 32 / 50\n",
      "Learning Rate for this epoch: 0.0001\n",
      "Epoch [32/50],Training_loss: 1.6447, Val_loss: 1.9523,time: 0 min 11 sec\n",
      "\n",
      "\n",
      "Starting epoch 33 / 50\n",
      "Learning Rate for this epoch: 0.0001\n",
      "Epoch [33/50],Training_loss: 1.7146, Val_loss: 1.9466,time: 0 min 11 sec\n",
      "\n",
      "\n",
      "Starting epoch 34 / 50\n",
      "Learning Rate for this epoch: 0.0001\n",
      "Epoch [34/50],Training_loss: 1.6791, Val_loss: 1.9956,time: 0 min 11 sec\n",
      "\n",
      "\n",
      "Starting epoch 35 / 50\n",
      "Learning Rate for this epoch: 0.0001\n",
      "Epoch [35/50],Training_loss: 1.6662, Val_loss: 2.0080,time: 0 min 11 sec\n",
      "\n",
      "\n",
      "Starting epoch 36 / 50\n",
      "Learning Rate for this epoch: 0.0001\n",
      "Epoch [36/50],Training_loss: 1.7311, Val_loss: 2.0101,time: 0 min 11 sec\n",
      "\n",
      "\n",
      "Starting epoch 37 / 50\n",
      "Learning Rate for this epoch: 0.0001\n",
      "Epoch [37/50],Training_loss: 1.6613, Val_loss: 2.0242,time: 0 min 11 sec\n",
      "\n",
      "\n",
      "Starting epoch 38 / 50\n",
      "Learning Rate for this epoch: 0.0001\n",
      "Epoch [38/50],Training_loss: 1.6830, Val_loss: 2.0807,time: 0 min 11 sec\n",
      "\n",
      "\n",
      "Starting epoch 39 / 50\n",
      "Learning Rate for this epoch: 0.0001\n",
      "Epoch [39/50],Training_loss: 1.6861, Val_loss: 2.0209,time: 0 min 11 sec\n",
      "\n",
      "\n",
      "Starting epoch 40 / 50\n",
      "Learning Rate for this epoch: 0.0001\n",
      "Epoch [40/50],Training_loss: 1.6646, Val_loss: 2.0629,time: 0 min 11 sec\n",
      "\n",
      "\n",
      "Starting epoch 41 / 50\n",
      "Learning Rate for this epoch: 1e-05\n",
      "Epoch [41/50],Training_loss: 1.6225, Val_loss: 2.0594,time: 0 min 11 sec\n",
      "\n",
      "\n",
      "Starting epoch 42 / 50\n",
      "Learning Rate for this epoch: 1e-05\n",
      "Epoch [42/50],Training_loss: 1.7632, Val_loss: 2.0727,time: 0 min 11 sec\n",
      "\n",
      "\n",
      "Starting epoch 43 / 50\n",
      "Learning Rate for this epoch: 1e-05\n",
      "Epoch [43/50],Training_loss: 1.7489, Val_loss: 2.0764,time: 0 min 11 sec\n",
      "\n",
      "\n",
      "Starting epoch 44 / 50\n",
      "Learning Rate for this epoch: 1e-05\n",
      "Epoch [44/50],Training_loss: 1.6888, Val_loss: 2.0696,time: 0 min 11 sec\n",
      "\n",
      "\n",
      "Starting epoch 45 / 50\n",
      "Learning Rate for this epoch: 1e-05\n",
      "Epoch [45/50],Training_loss: 1.6515, Val_loss: 2.0541,time: 0 min 11 sec\n",
      "\n",
      "\n",
      "Starting epoch 46 / 50\n",
      "Learning Rate for this epoch: 1e-05\n",
      "Epoch [46/50],Training_loss: 1.7090, Val_loss: 2.0820,time: 0 min 11 sec\n",
      "\n",
      "\n",
      "Starting epoch 47 / 50\n",
      "Learning Rate for this epoch: 1e-05\n",
      "Epoch [47/50],Training_loss: 1.7543, Val_loss: 2.0792,time: 0 min 11 sec\n",
      "\n",
      "\n",
      "Starting epoch 48 / 50\n",
      "Learning Rate for this epoch: 1e-05\n",
      "Epoch [48/50],Training_loss: 1.6934, Val_loss: 2.0625,time: 0 min 11 sec\n",
      "\n",
      "\n",
      "Starting epoch 49 / 50\n",
      "Learning Rate for this epoch: 1e-05\n",
      "Epoch [49/50],Training_loss: 1.7233, Val_loss: 2.0886,time: 0 min 11 sec\n",
      "\n",
      "\n",
      "Starting epoch 50 / 50\n",
      "Learning Rate for this epoch: 1e-05\n",
      "Epoch [50/50],Training_loss: 1.7413, Val_loss: 2.1164,time: 0 min 11 sec\n"
     ]
    }
   ],
   "source": [
    "best_test_loss = np.inf\n",
    "for epoch in range(num_epochs):\n",
    "    tic = time.time()\n",
    "    net.train()\n",
    "    \n",
    "    # Update learning rate late in training\n",
    "    if epoch == 30 or epoch == 40:\n",
    "        learning_rate /= 10.0\n",
    "\n",
    "    for param_group in optimizer.param_groups:\n",
    "        param_group['lr'] = learning_rate\n",
    "    \n",
    "    print('\\n\\nStarting epoch %d / %d' % (epoch + 1, num_epochs))\n",
    "    print('Learning Rate for this epoch: {}'.format(learning_rate))\n",
    "    \n",
    "    total_loss = 0.\n",
    "    \n",
    "    for i, (images, target) in enumerate(train_loader):\n",
    "        images, target = images.to(device), target.to(device)\n",
    "        \n",
    "        pred = net(images)\n",
    "        loss = criterion(pred,target)\n",
    "        total_loss += loss.item()\n",
    "        optimizer.zero_grad()\n",
    "        loss.backward()\n",
    "        optimizer.step()\n",
    "#         if (i+1) % 50 == 0:\n",
    "#             print('Epoch [%d/%d], Iter [%d/%d] Loss: %.4f, average_loss: %.4f'\n",
    "#                   % (epoch+1, num_epochs, i+1, len(train_loader), loss.item(), total_loss / (i+1)))\n",
    "    \n",
    "    # evaluate the network on the test data\n",
    "    with torch.no_grad():\n",
    "        test_loss = 0.0\n",
    "        net.eval()\n",
    "        for j, (images, target) in enumerate(test_loader):\n",
    "            images, target = images.to(device), target.to(device)\n",
    "\n",
    "            pred = net(images)\n",
    "            loss = criterion(pred,target)\n",
    "            test_loss += loss.item()\n",
    "        test_loss /= len(test_loader)\n",
    "    toc = time.time()-tic\n",
    "    avg_train_loss.append(total_loss / (i+1))\n",
    "    avg_test_loss.append(test_loss)\n",
    "    print('Epoch [%d/%d],Training_loss: %.4f, Val_loss: %.4f,time: %.f min %.f sec'\n",
    "                  % (epoch+1, num_epochs, total_loss / (i+1),test_loss,toc//60,toc%60))\n",
    "    \n",
    "    \n",
    "    if best_test_loss > test_loss:\n",
    "        best_test_loss = test_loss\n",
    "        print('Updating best test loss: %.5f' % best_test_loss)\n",
    "        torch.save(net.state_dict(),'best_detector.pth')\n",
    "\n",
    "    torch.save(net.state_dict(),'detector.pth')\n",
    "    \n"
   ]
  },
  {
   "cell_type": "code",
   "execution_count": 43,
   "metadata": {},
   "outputs": [
    {
     "data": {
      "image/png": "[encoded data removed]",
      "text/plain": [
       "<Figure size 432x288 with 1 Axes>"
      ]
     },
     "metadata": {
      "needs_background": "light"
     },
     "output_type": "display_data"
    }
   ],
   "source": [
    "# plt.plot(avg_train_loss,'g', avg_test_loss, 'r')\n",
    "# plt.show()\n",
    "\n",
    "import matplotlib.pyplot as plt\n",
    "plt.plot(avg_train_loss,'g',label='Train loss')\n",
    "plt.plot(avg_test_loss, 'r',label='Val loss')\n",
    "plt.xlabel(\"Epoch\")\n",
    "plt.ylabel(\"Train and Validation loss\")\n",
    "plt.legend()\n",
    "plt.show()"
   ]
  },
  {
   "cell_type": "markdown",
   "metadata": {
    "colab_type": "text",
    "id": "ct8qfOMLrrAC"
   },
   "source": [
    "# View example predictions"
   ]
  },
  {
   "cell_type": "code",
   "execution_count": null,
   "metadata": {
    "colab": {
     "base_uri": "https://localhost:8080/",
     "height": 643
    },
    "colab_type": "code",
    "id": "vGFcY27BrrAC",
    "outputId": "ebbbe7f1-7d47-4cb3-c1da-c0f8f89a2da4",
    "scrolled": false
   },
   "outputs": [],
   "source": [
    "import random\n",
    "net.eval()\n",
    "\n",
    "# select random image from test set\n",
    "image_name = random.choice(test_dataset.fnames)\n",
    "image = cv2.imread(os.path.join(file_root_test, image_name))\n",
    "image = cv2.cvtColor(image, cv2.COLOR_BGR2RGB)\n",
    "net.load_state_dict(torch.load(\"best_detector.pth\"))\n",
    "print('predicting...')\n",
    "result = predict_image(net, image_name, root_img_directory=file_root_test)\n",
    "for left_up, right_bottom, class_name, _, prob in result:\n",
    "    color = COLORS[VOC_CLASSES.index(class_name)]\n",
    "    cv2.rectangle(image, left_up, right_bottom, color, 2)\n",
    "    label = class_name + str(round(prob, 2))\n",
    "    text_size, baseline = cv2.getTextSize(label, cv2.FONT_HERSHEY_SIMPLEX, 0.4, 1)\n",
    "    p1 = (left_up[0], left_up[1] - text_size[1])\n",
    "    cv2.rectangle(image, (p1[0] - 2 // 2, p1[1] - 2 - baseline), (p1[0] + text_size[0], p1[1] + text_size[1]),\n",
    "                  color, -1)\n",
    "    cv2.putText(image, label, (p1[0], p1[1] + baseline), cv2.FONT_HERSHEY_SIMPLEX, 0.4, (255, 255, 255), 1, 8)\n",
    "\n",
    "plt.figure(figsize = (15,15))\n",
    "d=random.randint(1,500)\n",
    "cv2.imwrite('result/result_%d.png'%(d),image)\n",
    "plt.imshow(image)\n"
   ]
  },
  {
   "cell_type": "code",
   "execution_count": 39,
   "metadata": {},
   "outputs": [
    {
     "name": "stdout",
     "output_type": "stream",
     "text": [
      "predicting...\n"
     ]
    },
    {
     "data": {
      "text/plain": [
       "<matplotlib.image.AxesImage at 0x7f41bceee550>"
      ]
     },
     "execution_count": 39,
     "metadata": {},
     "output_type": "execute_result"
    },
    {
     "data": {
      "image/png": "[encoded data removed]",
      "text/plain": [
       "<Figure size 1080x1080 with 1 Axes>"
      ]
     },
     "metadata": {
      "needs_background": "light"
     },
     "output_type": "display_data"
    }
   ],
   "source": [
    "import random\n",
    "net.eval()\n",
    "\n",
    "# select random image from test set\n",
    "image_name = random.choice(test_dataset.fnames)\n",
    "image = cv2.imread(os.path.join(file_root_test, image_name))\n",
    "image = cv2.cvtColor(image, cv2.COLOR_BGR2RGB)\n",
    "net.load_state_dict(torch.load(\"detector.pth\"))\n",
    "print('predicting...')\n",
    "result = predict_image(net, image_name, root_img_directory=file_root_test)\n",
    "c=1\n",
    "for left_up, right_bottom, class_name, _, prob in result:\n",
    "    color = COLORS[VOC_CLASSES.index(class_name)]\n",
    "    img=image[left_up[1]:right_bottom[1],left_up[0]:right_bottom[0]]\n",
    "    cv2.imwrite('%d.jpg'%c ,img)\n",
    "    c=c+1\n",
    "    cv2.rectangle(image, left_up, right_bottom, color, 2)\n",
    "    label = class_name + str(round(prob, 2))\n",
    "    text_size, baseline = cv2.getTextSize(label, cv2.FONT_HERSHEY_SIMPLEX, 0.4, 1)\n",
    "    p1 = (left_up[0], left_up[1] - text_size[1])\n",
    "    cv2.rectangle(image, (p1[0] - 2 // 2, p1[1] - 2 - baseline), (p1[0] + text_size[0], p1[1] + text_size[1]),\n",
    "                  color, -1)\n",
    "    cv2.putText(image, label, (p1[0], p1[1] + baseline), cv2.FONT_HERSHEY_SIMPLEX, 0.4, (255, 255, 255), 1, 8)\n",
    "\n",
    "plt.figure(figsize = (15,15))\n",
    "d=random.randint(1,5000)\n",
    "cv2.imwrite('result/result_%d.png'%(d),image)\n",
    "plt.imshow(image)\n"
   ]
  },
  {
   "cell_type": "markdown",
   "metadata": {
    "colab_type": "text",
    "collapsed": true,
    "id": "g-LxkErBrrAF"
   },
   "source": [
    "## Evaluate on Test\n",
    "\n",
    "To evaluate detection results we use mAP (mean of average precision over each class)"
   ]
  },
  {
   "cell_type": "code",
   "execution_count": null,
   "metadata": {
    "colab": {
     "base_uri": "https://localhost:8080/",
     "height": 164
    },
    "colab_type": "code",
    "id": "wjVQKz7prrAG",
    "outputId": "0de268cb-a5df-4c97-aa39-6fcfc0b6cfc5"
   },
   "outputs": [],
   "source": [
    "test_aps = evaluate(net, test_dataset_file=annotation_file_test)"
   ]
  },
  {
   "cell_type": "code",
   "execution_count": null,
   "metadata": {
    "colab": {},
    "colab_type": "code",
    "id": "CXt3yX7TrrAH"
   },
   "outputs": [],
   "source": [
    "output_submission_csv('my_solution.csv', test_aps)"
   ]
  },
  {
   "cell_type": "code",
   "execution_count": null,
   "metadata": {
    "colab": {},
    "colab_type": "code",
    "id": "FgoK6wm9rrAK"
   },
   "outputs": [],
   "source": [
    "import cv2 \n",
    "import numpy as np\n",
    "import argparse\n",
    "import sys\n",
    "import scipy.misc\n",
    "\n",
    "######################Weight for Camvid ####################\n",
    "\n",
    "######################################################################\n",
    "cap = cv2.VideoCapture('0005VD.MXF') \n",
    "count = 0\n",
    "ret=1\n",
    "fourcc1 = cv2.VideoWriter_fourcc(*'XVID')\n",
    "\n",
    "\n",
    "out1 = cv2.VideoWriter('video.avi',fourcc1, 20.0, (480,360))\n",
    "\n",
    "net.load_state_dict(torch.load(\"detector.pth\"))\n",
    "while ret:\n",
    "    \n",
    "    cap.set(cv2.CAP_PROP_POS_MSEC,count*40)      # Go to the 1 sec. position\n",
    "    ret,frame = cap.read()\n",
    " \n",
    "    if ret:\n",
    "        frame = cv2.resize(frame, (480, 360))\n",
    "        \n",
    "        frame1 = cv2.cvtColor(frame,cv2.COLOR_BGR2RGB)\n",
    "        result = predict_video(net, frame1)\n",
    "        for left_up, right_bottom, class_name, prob in result:\n",
    "            color = COLORS[VOC_CLASSES.index(class_name)]\n",
    "            cv2.rectangle(frame, left_up, right_bottom, color, 2)\n",
    "            label = class_name + str(round(prob, 2))\n",
    "            text_size, baseline = cv2.getTextSize(label, cv2.FONT_HERSHEY_SIMPLEX, 0.4, 1)\n",
    "            p1 = (left_up[0], left_up[1] - text_size[1])\n",
    "            cv2.rectangle(frame, (p1[0] - 2 // 2, p1[1] - 2 - baseline), (p1[0] + text_size[0], p1[1] + text_size[1]),\n",
    "                  color, -1)\n",
    "            cv2.putText(frame, label, (p1[0], p1[1] + baseline), cv2.FONT_HERSHEY_SIMPLEX, 0.4, (255, 255, 255), 1, 8)\n",
    "\n",
    "        cv2.imshow('Video',frame)\n",
    "        out1.write(frame)\n",
    "        \n",
    "        if cv2.waitKey(1) & 0xFF == ord('q'):\n",
    "            break\n",
    "            \n",
    "    count += 1\n",
    "cap.release()\n",
    "out1.release()\n",
    "cv2.destroyAllWindows()"
   ]
  },
  {
   "cell_type": "code",
   "execution_count": null,
   "metadata": {},
   "outputs": [],
   "source": []
  }
 ],
 "metadata": {
  "accelerator": "GPU",
  "colab": {
   "name": "MP3_P2.ipynb",
   "provenance": [],
   "version": "0.3.2"
  },
  "kernelspec": {
   "display_name": "Python 3",
   "language": "python",
   "name": "python3"
  },
  "language_info": {
   "codemirror_mode": {
    "name": "ipython",
    "version": 3
   },
   "file_extension": ".py",
   "mimetype": "text/x-python",
   "name": "python",
   "nbconvert_exporter": "python",
   "pygments_lexer": "ipython3",
   "version": "3.6.7"
  }
 },
 "nbformat": 4,
 "nbformat_minor": 1
}
